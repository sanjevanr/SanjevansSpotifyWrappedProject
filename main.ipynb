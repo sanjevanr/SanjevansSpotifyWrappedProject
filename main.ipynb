{
 "cells": [
  {
   "cell_type": "code",
   "execution_count": null,
   "metadata": {},
   "outputs": [],
   "source": [
    "pip install spotipy"
   ]
  },
  {
   "cell_type": "code",
   "execution_count": null,
   "metadata": {},
   "outputs": [],
   "source": [
    "pip install requests"
   ]
  },
  {
   "cell_type": "code",
   "execution_count": null,
   "metadata": {},
   "outputs": [],
   "source": [
    "import requests\n",
    "import spotipy\n",
    "from spotipy.oauth2 import SpotifyOAuth\n",
    "import pandas as pd"
   ]
  },
  {
   "cell_type": "code",
   "execution_count": 2,
   "metadata": {},
   "outputs": [],
   "source": [
    "sp_clientid = \"7c8321dac9984c0d87cb821ee93fcb5e\"\n",
    "sp_clientsecret = \"b9f2e2e674ae4c45b982675e884de02b\"\n",
    "sp_redirecturi= \"file:///C:/Users/sanje/OneDrive%20-%20Monash%20University/Sanjevan's%20Portfolio%20and%20Resume/SanjevansSpotifyWrappedProject\"\n",
    "sp_scope=\"user-top-read\""
   ]
  },
  {
   "cell_type": "code",
   "execution_count": null,
   "metadata": {},
   "outputs": [],
   "source": [
    "sp = spotipy.Spotify(authmanager=SpotifyOAuth(client_id = sp_clientid, client_secret = sp_clientsecret, redirect_uri = sp_redirecturi, scope = sp_scope))"
   ]
  },
  {
   "cell_type": "code",
   "execution_count": null,
   "metadata": {},
   "outputs": [],
   "source": [
    "top_tracks_short_term = sp.current_user_top_tracks(limit=10, offset=0, time_range=\"short_term\"))"
   ]
  },
  {
   "cell_type": "code",
   "execution_count": 4,
   "metadata": {},
   "outputs": [],
   "source": [
    "def get_track_ids(top_tracks_time_frame):\n",
    "    track_ids = []\n",
    "    for track in top_tracks_time_frame[\"items\"]:\n",
    "        track_ids.append(track[\"id\"])\n",
    "    return track_ids\n",
    "\n",
    "track_ids = get_track_ids(top_tracks_short_term)"
   ]
  },
  {
   "cell_type": "code",
   "execution_count": 5,
   "metadata": {},
   "outputs": [],
   "source": [
    "def get_track_information(id):\n",
    "    data = sp.track(id)\n",
    "    name = data[\"name\"]\n",
    "    album = data[\"album\"][\"name\"]\n",
    "    artist = data[\"album\"][\"artists\"][0][\"name\"] #0 gets only the main artist \n",
    "    spotifyURL = data[\"external_urls\"]\n",
    "    album_cover = data[\"album\"][\"images\"][0][\"url\"]\n",
    "    \n",
    "    track_information = [name, album, artist, spotifyURL, album_cover]\n",
    "\n",
    "    return track_information    "
   ]
  },
  {
   "cell_type": "code",
   "execution_count": 6,
   "metadata": {},
   "outputs": [],
   "source": [
    "tracks = []\n",
    "for i in range (len(track_ids)):\n",
    "    time.sleep(.5)\n",
    "    track = get_track_information(track_ids[i])\n",
    "    tracks.append(track)"
   ]
  },
  {
   "cell_type": "code",
   "execution_count": 7,
   "metadata": {},
   "outputs": [],
   "source": [
    "df = pd.DataFrame(tracks, columns = ['name', 'album', 'artist', 'spotify_url', 'album_cover'])"
   ]
  },
  {
   "cell_type": "code",
   "execution_count": 8,
   "metadata": {},
   "outputs": [],
   "source": [
    "import gcspread \n",
    "gc = gspread.service_account(filename='')"
   ]
  },
  {
   "cell_type": "code",
   "execution_count": 9,
   "metadata": {},
   "outputs": [],
   "source": [
    "\n",
    "    "
   ]
  },
  {
   "cell_type": "code",
   "execution_count": null,
   "metadata": {},
   "outputs": [],
   "source": []
  },
  {
   "cell_type": "code",
   "execution_count": null,
   "metadata": {},
   "outputs": [],
   "source": []
  }
 ],
 "metadata": {
  "kernelspec": {
   "display_name": "base",
   "language": "python",
   "name": "python3"
  },
  "language_info": {
   "codemirror_mode": {
    "name": "ipython",
    "version": 3
   },
   "file_extension": ".py",
   "mimetype": "text/x-python",
   "name": "python",
   "nbconvert_exporter": "python",
   "pygments_lexer": "ipython3",
   "version": "3.9.13"
  }
 },
 "nbformat": 4,
 "nbformat_minor": 2
}
